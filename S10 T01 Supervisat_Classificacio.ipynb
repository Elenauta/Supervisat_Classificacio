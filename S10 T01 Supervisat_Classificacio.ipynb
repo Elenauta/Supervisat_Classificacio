{
 "cells": [
  {
   "cell_type": "markdown",
   "id": "0d98b6b5",
   "metadata": {},
   "source": [
    "### S10 T01: Aprenentage Supervisat"
   ]
  },
  {
   "cell_type": "markdown",
   "id": "be30908d",
   "metadata": {},
   "source": [
    "Exercicis 1, 2, 3, 4\n",
    "\n",
    "- Crea almenys tres models de __classificació__ diferents per intentar predir el millor possible l’endarreriment dels vols (ArrDelay) de DelayedFlights.csv. Considera si el vol ha arribat tard o no (ArrDelay > 0).\n",
    "\n",
    "- Compara els models de classificació utilitzant la precisió (accuracy), una matriu de confusió i d’altres mètriques més avançades.\n",
    "\n",
    "- Entrena’ls utilitzant els diferents paràmetres que admeten.\n",
    "\n",
    "- Compara el seu rendiment utilitzant l’aproximació traint/test o cross-validation."
   ]
  },
  {
   "cell_type": "markdown",
   "id": "5dbcf5d3",
   "metadata": {},
   "source": [
    "#### Loading Data"
   ]
  },
  {
   "cell_type": "code",
   "execution_count": 1,
   "id": "7e8d1425",
   "metadata": {},
   "outputs": [],
   "source": [
    "# Importing libraries\n",
    "import pandas as pd\n",
    "import numpy as np\n",
    "import seaborn as sns\n",
    "import matplotlib.pyplot as plt\n",
    "%matplotlib inline\n",
    "from sklearn.preprocessing import StandardScaler\n",
    "from sklearn.model_selection import train_test_split, cross_val_score\n",
    "from sklearn.tree import DecisionTreeClassifier\n",
    "from sklearn.neighbors import KNeighborsClassifier\n",
    "from sklearn.linear_model import LogisticRegression\n",
    "from sklearn.svm import SVC\n",
    "from sklearn import metrics #for accuracy calculation\n",
    "import re\n",
    "import warnings\n",
    "warnings.filterwarnings('ignore')\n",
    "\n",
    "# Importing dataset\n",
    "df = pd.read_csv('DelayedFlights.csv')"
   ]
  },
  {
   "cell_type": "markdown",
   "id": "b82387a8",
   "metadata": {},
   "source": [
    "#### Pre-Processing"
   ]
  },
  {
   "cell_type": "code",
   "execution_count": 2,
   "id": "f9b5a297",
   "metadata": {},
   "outputs": [
    {
     "data": {
      "text/html": [
       "<div>\n",
       "<style scoped>\n",
       "    .dataframe tbody tr th:only-of-type {\n",
       "        vertical-align: middle;\n",
       "    }\n",
       "\n",
       "    .dataframe tbody tr th {\n",
       "        vertical-align: top;\n",
       "    }\n",
       "\n",
       "    .dataframe thead th {\n",
       "        text-align: right;\n",
       "    }\n",
       "</style>\n",
       "<table border=\"1\" class=\"dataframe\">\n",
       "  <thead>\n",
       "    <tr style=\"text-align: right;\">\n",
       "      <th></th>\n",
       "      <th>Unnamed: 0</th>\n",
       "      <th>Year</th>\n",
       "      <th>Month</th>\n",
       "      <th>DayofMonth</th>\n",
       "      <th>DayOfWeek</th>\n",
       "      <th>DepTime</th>\n",
       "      <th>CRSDepTime</th>\n",
       "      <th>ArrTime</th>\n",
       "      <th>CRSArrTime</th>\n",
       "      <th>UniqueCarrier</th>\n",
       "      <th>...</th>\n",
       "      <th>TaxiIn</th>\n",
       "      <th>TaxiOut</th>\n",
       "      <th>Cancelled</th>\n",
       "      <th>CancellationCode</th>\n",
       "      <th>Diverted</th>\n",
       "      <th>CarrierDelay</th>\n",
       "      <th>WeatherDelay</th>\n",
       "      <th>NASDelay</th>\n",
       "      <th>SecurityDelay</th>\n",
       "      <th>LateAircraftDelay</th>\n",
       "    </tr>\n",
       "  </thead>\n",
       "  <tbody>\n",
       "    <tr>\n",
       "      <th>0</th>\n",
       "      <td>0</td>\n",
       "      <td>2008</td>\n",
       "      <td>1</td>\n",
       "      <td>3</td>\n",
       "      <td>4</td>\n",
       "      <td>2003.0</td>\n",
       "      <td>1955</td>\n",
       "      <td>2211.0</td>\n",
       "      <td>2225</td>\n",
       "      <td>WN</td>\n",
       "      <td>...</td>\n",
       "      <td>4.0</td>\n",
       "      <td>8.0</td>\n",
       "      <td>0</td>\n",
       "      <td>N</td>\n",
       "      <td>0</td>\n",
       "      <td>NaN</td>\n",
       "      <td>NaN</td>\n",
       "      <td>NaN</td>\n",
       "      <td>NaN</td>\n",
       "      <td>NaN</td>\n",
       "    </tr>\n",
       "    <tr>\n",
       "      <th>1</th>\n",
       "      <td>1</td>\n",
       "      <td>2008</td>\n",
       "      <td>1</td>\n",
       "      <td>3</td>\n",
       "      <td>4</td>\n",
       "      <td>754.0</td>\n",
       "      <td>735</td>\n",
       "      <td>1002.0</td>\n",
       "      <td>1000</td>\n",
       "      <td>WN</td>\n",
       "      <td>...</td>\n",
       "      <td>5.0</td>\n",
       "      <td>10.0</td>\n",
       "      <td>0</td>\n",
       "      <td>N</td>\n",
       "      <td>0</td>\n",
       "      <td>NaN</td>\n",
       "      <td>NaN</td>\n",
       "      <td>NaN</td>\n",
       "      <td>NaN</td>\n",
       "      <td>NaN</td>\n",
       "    </tr>\n",
       "    <tr>\n",
       "      <th>2</th>\n",
       "      <td>2</td>\n",
       "      <td>2008</td>\n",
       "      <td>1</td>\n",
       "      <td>3</td>\n",
       "      <td>4</td>\n",
       "      <td>628.0</td>\n",
       "      <td>620</td>\n",
       "      <td>804.0</td>\n",
       "      <td>750</td>\n",
       "      <td>WN</td>\n",
       "      <td>...</td>\n",
       "      <td>3.0</td>\n",
       "      <td>17.0</td>\n",
       "      <td>0</td>\n",
       "      <td>N</td>\n",
       "      <td>0</td>\n",
       "      <td>NaN</td>\n",
       "      <td>NaN</td>\n",
       "      <td>NaN</td>\n",
       "      <td>NaN</td>\n",
       "      <td>NaN</td>\n",
       "    </tr>\n",
       "  </tbody>\n",
       "</table>\n",
       "<p>3 rows × 30 columns</p>\n",
       "</div>"
      ],
      "text/plain": [
       "   Unnamed: 0  Year  Month  DayofMonth  DayOfWeek  DepTime  CRSDepTime  \\\n",
       "0           0  2008      1           3          4   2003.0        1955   \n",
       "1           1  2008      1           3          4    754.0         735   \n",
       "2           2  2008      1           3          4    628.0         620   \n",
       "\n",
       "   ArrTime  CRSArrTime UniqueCarrier  ...  TaxiIn TaxiOut  Cancelled  \\\n",
       "0   2211.0        2225            WN  ...     4.0     8.0          0   \n",
       "1   1002.0        1000            WN  ...     5.0    10.0          0   \n",
       "2    804.0         750            WN  ...     3.0    17.0          0   \n",
       "\n",
       "   CancellationCode  Diverted  CarrierDelay  WeatherDelay NASDelay  \\\n",
       "0                 N         0           NaN           NaN      NaN   \n",
       "1                 N         0           NaN           NaN      NaN   \n",
       "2                 N         0           NaN           NaN      NaN   \n",
       "\n",
       "  SecurityDelay  LateAircraftDelay  \n",
       "0           NaN                NaN  \n",
       "1           NaN                NaN  \n",
       "2           NaN                NaN  \n",
       "\n",
       "[3 rows x 30 columns]"
      ]
     },
     "execution_count": 2,
     "metadata": {},
     "output_type": "execute_result"
    }
   ],
   "source": [
    "df[:3]"
   ]
  },
  {
   "cell_type": "code",
   "execution_count": 3,
   "id": "17d891da",
   "metadata": {},
   "outputs": [
    {
     "data": {
      "text/plain": [
       "(1936758, 30)"
      ]
     },
     "execution_count": 3,
     "metadata": {},
     "output_type": "execute_result"
    }
   ],
   "source": [
    "df.shape"
   ]
  },
  {
   "cell_type": "code",
   "execution_count": 4,
   "id": "1b57eeb0",
   "metadata": {},
   "outputs": [
    {
     "data": {
      "text/plain": [
       "Index(['Unnamed: 0', 'Year', 'Month', 'DayofMonth', 'DayOfWeek', 'DepTime',\n",
       "       'CRSDepTime', 'ArrTime', 'CRSArrTime', 'UniqueCarrier', 'FlightNum',\n",
       "       'TailNum', 'ActualElapsedTime', 'CRSElapsedTime', 'AirTime', 'ArrDelay',\n",
       "       'DepDelay', 'Origin', 'Dest', 'Distance', 'TaxiIn', 'TaxiOut',\n",
       "       'Cancelled', 'CancellationCode', 'Diverted', 'CarrierDelay',\n",
       "       'WeatherDelay', 'NASDelay', 'SecurityDelay', 'LateAircraftDelay'],\n",
       "      dtype='object')"
      ]
     },
     "execution_count": 4,
     "metadata": {},
     "output_type": "execute_result"
    }
   ],
   "source": [
    "df.columns"
   ]
  },
  {
   "cell_type": "markdown",
   "id": "a6d52209",
   "metadata": {},
   "source": [
    "Just keep the features we want, drop the rest"
   ]
  },
  {
   "cell_type": "code",
   "execution_count": 5,
   "id": "d22709d8",
   "metadata": {},
   "outputs": [],
   "source": [
    "df.drop(['Unnamed: 0', 'Year', 'Month', 'DayofMonth', 'UniqueCarrier', 'FlightNum',\n",
    "       'TailNum', 'AirTime', 'Origin', 'Dest', 'Distance', 'TaxiIn', 'TaxiOut',\n",
    "       'Cancelled', 'CancellationCode', 'Diverted'], axis=1, inplace=True)"
   ]
  },
  {
   "cell_type": "markdown",
   "id": "deb90ac2",
   "metadata": {},
   "source": [
    "We create a new column to consider if a flight is delayed or not"
   ]
  },
  {
   "cell_type": "code",
   "execution_count": 6,
   "id": "8efb8b2a",
   "metadata": {},
   "outputs": [],
   "source": [
    "df['Delayed'] = df['ArrDelay'] > 0\n",
    "df['Delayed'] = df['Delayed'].astype(int) #boolean to 0 y 1"
   ]
  },
  {
   "cell_type": "code",
   "execution_count": 7,
   "id": "ac06c30e",
   "metadata": {},
   "outputs": [
    {
     "name": "stdout",
     "output_type": "stream",
     "text": [
      "<class 'pandas.core.frame.DataFrame'>\n",
      "RangeIndex: 1936758 entries, 0 to 1936757\n",
      "Data columns (total 15 columns):\n",
      " #   Column             Dtype  \n",
      "---  ------             -----  \n",
      " 0   DayOfWeek          int64  \n",
      " 1   DepTime            float64\n",
      " 2   CRSDepTime         int64  \n",
      " 3   ArrTime            float64\n",
      " 4   CRSArrTime         int64  \n",
      " 5   ActualElapsedTime  float64\n",
      " 6   CRSElapsedTime     float64\n",
      " 7   ArrDelay           float64\n",
      " 8   DepDelay           float64\n",
      " 9   CarrierDelay       float64\n",
      " 10  WeatherDelay       float64\n",
      " 11  NASDelay           float64\n",
      " 12  SecurityDelay      float64\n",
      " 13  LateAircraftDelay  float64\n",
      " 14  Delayed            int64  \n",
      "dtypes: float64(11), int64(4)\n",
      "memory usage: 221.6 MB\n"
     ]
    }
   ],
   "source": [
    "df.info() "
   ]
  },
  {
   "cell_type": "markdown",
   "id": "97084cf9",
   "metadata": {},
   "source": [
    "As it is a large dataset, we better work with a sample of 10%"
   ]
  },
  {
   "cell_type": "code",
   "execution_count": 8,
   "id": "10b08d4e",
   "metadata": {},
   "outputs": [],
   "source": [
    "population_size = len(df)\n",
    "sample_size = int(population_size * 0.1)\n",
    "np.random.seed(42) # for same random results \n",
    "df = df.sample(sample_size)"
   ]
  },
  {
   "cell_type": "markdown",
   "id": "4c821a6d",
   "metadata": {},
   "source": [
    "Find and replace missing values"
   ]
  },
  {
   "cell_type": "code",
   "execution_count": 9,
   "id": "1d13f09d",
   "metadata": {},
   "outputs": [
    {
     "data": {
      "text/plain": [
       "DayOfWeek                0\n",
       "DepTime                  0\n",
       "CRSDepTime               0\n",
       "ArrTime                708\n",
       "CRSArrTime               0\n",
       "ActualElapsedTime      840\n",
       "CRSElapsedTime          26\n",
       "ArrDelay               840\n",
       "DepDelay                 0\n",
       "CarrierDelay         68739\n",
       "WeatherDelay         68739\n",
       "NASDelay             68739\n",
       "SecurityDelay        68739\n",
       "LateAircraftDelay    68739\n",
       "Delayed                  0\n",
       "dtype: int64"
      ]
     },
     "execution_count": 9,
     "metadata": {},
     "output_type": "execute_result"
    }
   ],
   "source": [
    "df.isnull().sum()"
   ]
  },
  {
   "cell_type": "code",
   "execution_count": 10,
   "id": "0e51de49",
   "metadata": {
    "scrolled": true
   },
   "outputs": [
    {
     "data": {
      "text/html": [
       "<div>\n",
       "<style scoped>\n",
       "    .dataframe tbody tr th:only-of-type {\n",
       "        vertical-align: middle;\n",
       "    }\n",
       "\n",
       "    .dataframe tbody tr th {\n",
       "        vertical-align: top;\n",
       "    }\n",
       "\n",
       "    .dataframe thead th {\n",
       "        text-align: right;\n",
       "    }\n",
       "</style>\n",
       "<table border=\"1\" class=\"dataframe\">\n",
       "  <thead>\n",
       "    <tr style=\"text-align: right;\">\n",
       "      <th></th>\n",
       "      <th>DayOfWeek</th>\n",
       "      <th>DepTime</th>\n",
       "      <th>CRSDepTime</th>\n",
       "      <th>ArrTime</th>\n",
       "      <th>CRSArrTime</th>\n",
       "      <th>ActualElapsedTime</th>\n",
       "      <th>CRSElapsedTime</th>\n",
       "      <th>ArrDelay</th>\n",
       "      <th>DepDelay</th>\n",
       "      <th>CarrierDelay</th>\n",
       "      <th>WeatherDelay</th>\n",
       "      <th>NASDelay</th>\n",
       "      <th>SecurityDelay</th>\n",
       "      <th>LateAircraftDelay</th>\n",
       "      <th>Delayed</th>\n",
       "    </tr>\n",
       "  </thead>\n",
       "  <tbody>\n",
       "    <tr>\n",
       "      <th>1782417</th>\n",
       "      <td>6</td>\n",
       "      <td>1805.0</td>\n",
       "      <td>1755</td>\n",
       "      <td>2146.0</td>\n",
       "      <td>2035</td>\n",
       "      <td>281.0</td>\n",
       "      <td>220.0</td>\n",
       "      <td>71.0</td>\n",
       "      <td>10.0</td>\n",
       "      <td>71.0</td>\n",
       "      <td>0.0</td>\n",
       "      <td>0.0</td>\n",
       "      <td>0.0</td>\n",
       "      <td>0.0</td>\n",
       "      <td>1</td>\n",
       "    </tr>\n",
       "    <tr>\n",
       "      <th>512712</th>\n",
       "      <td>7</td>\n",
       "      <td>2120.0</td>\n",
       "      <td>1200</td>\n",
       "      <td>2241.0</td>\n",
       "      <td>1333</td>\n",
       "      <td>81.0</td>\n",
       "      <td>93.0</td>\n",
       "      <td>548.0</td>\n",
       "      <td>560.0</td>\n",
       "      <td>543.0</td>\n",
       "      <td>0.0</td>\n",
       "      <td>0.0</td>\n",
       "      <td>0.0</td>\n",
       "      <td>5.0</td>\n",
       "      <td>1</td>\n",
       "    </tr>\n",
       "    <tr>\n",
       "      <th>447137</th>\n",
       "      <td>1</td>\n",
       "      <td>1731.0</td>\n",
       "      <td>1710</td>\n",
       "      <td>1819.0</td>\n",
       "      <td>1810</td>\n",
       "      <td>48.0</td>\n",
       "      <td>60.0</td>\n",
       "      <td>9.0</td>\n",
       "      <td>21.0</td>\n",
       "      <td>0.0</td>\n",
       "      <td>0.0</td>\n",
       "      <td>0.0</td>\n",
       "      <td>0.0</td>\n",
       "      <td>0.0</td>\n",
       "      <td>1</td>\n",
       "    </tr>\n",
       "  </tbody>\n",
       "</table>\n",
       "</div>"
      ],
      "text/plain": [
       "         DayOfWeek  DepTime  CRSDepTime  ArrTime  CRSArrTime  \\\n",
       "1782417          6   1805.0        1755   2146.0        2035   \n",
       "512712           7   2120.0        1200   2241.0        1333   \n",
       "447137           1   1731.0        1710   1819.0        1810   \n",
       "\n",
       "         ActualElapsedTime  CRSElapsedTime  ArrDelay  DepDelay  CarrierDelay  \\\n",
       "1782417              281.0           220.0      71.0      10.0          71.0   \n",
       "512712                81.0            93.0     548.0     560.0         543.0   \n",
       "447137                48.0            60.0       9.0      21.0           0.0   \n",
       "\n",
       "         WeatherDelay  NASDelay  SecurityDelay  LateAircraftDelay  Delayed  \n",
       "1782417           0.0       0.0            0.0                0.0        1  \n",
       "512712            0.0       0.0            0.0                5.0        1  \n",
       "447137            0.0       0.0            0.0                0.0        1  "
      ]
     },
     "execution_count": 10,
     "metadata": {},
     "output_type": "execute_result"
    }
   ],
   "source": [
    "df1 = df.fillna(0) # 0: to not loose data, df1: to stick with the clean dataset\n",
    "df1.head(3)"
   ]
  },
  {
   "cell_type": "code",
   "execution_count": 11,
   "id": "93262696",
   "metadata": {},
   "outputs": [
    {
     "data": {
      "text/plain": [
       "(193675, 15)"
      ]
     },
     "execution_count": 11,
     "metadata": {},
     "output_type": "execute_result"
    }
   ],
   "source": [
    "df1.shape"
   ]
  },
  {
   "cell_type": "code",
   "execution_count": 12,
   "id": "67084c61",
   "metadata": {},
   "outputs": [
    {
     "data": {
      "text/plain": [
       "Index(['DayOfWeek', 'DepTime', 'CRSDepTime', 'ArrTime', 'CRSArrTime',\n",
       "       'ActualElapsedTime', 'CRSElapsedTime', 'ArrDelay', 'DepDelay',\n",
       "       'CarrierDelay', 'WeatherDelay', 'NASDelay', 'SecurityDelay',\n",
       "       'LateAircraftDelay', 'Delayed'],\n",
       "      dtype='object')"
      ]
     },
     "execution_count": 12,
     "metadata": {},
     "output_type": "execute_result"
    }
   ],
   "source": [
    "df1.columns"
   ]
  },
  {
   "cell_type": "markdown",
   "id": "bd093d85",
   "metadata": {},
   "source": [
    "ArrDelay, wich is the feature to predict, is a continuous value, so this is a regression problem"
   ]
  },
  {
   "cell_type": "code",
   "execution_count": 13,
   "id": "398c4ad7",
   "metadata": {},
   "outputs": [
    {
     "data": {
      "image/png": "[encoded data removed]",
      "text/plain": [
       "<Figure size 1152x432 with 2 Axes>"
      ]
     },
     "metadata": {
      "needs_background": "light"
     },
     "output_type": "display_data"
    }
   ],
   "source": [
    "plt.figure(figsize=(16, 6))\n",
    "sns.heatmap(df1.corr(), annot=True, cmap='gist_yarg', robust=True, vmin=-1, vmax=1, mask=np.triu(np.ones_like(df1.corr())));"
   ]
  },
  {
   "cell_type": "markdown",
   "id": "bad280ce",
   "metadata": {},
   "source": [
    "Visualizing the relationship between ArrDelay and its correlated features   "
   ]
  },
  {
   "cell_type": "code",
   "execution_count": 14,
   "id": "91517dde",
   "metadata": {},
   "outputs": [
    {
     "data": {
      "image/png": "[encoded data removed]",
      "text/plain": [
       "<Figure size 1764x504 with 5 Axes>"
      ]
     },
     "metadata": {
      "needs_background": "light"
     },
     "output_type": "display_data"
    }
   ],
   "source": [
    "sns.pairplot(df1, x_vars=['DepDelay', 'CarrierDelay', 'WeatherDelay', 'NASDelay', 'LateAircraftDelay'], y_vars='ArrDelay', height=7, aspect=0.7, kind='reg');"
   ]
  },
  {
   "cell_type": "markdown",
   "id": "3e50e19a",
   "metadata": {},
   "source": [
    "#### Feature Selection"
   ]
  },
  {
   "cell_type": "markdown",
   "id": "eb179f66",
   "metadata": {},
   "source": [
    "Explanatory variables (X), and target variable (y)"
   ]
  },
  {
   "cell_type": "code",
   "execution_count": 15,
   "id": "09a7bf61",
   "metadata": {},
   "outputs": [
    {
     "data": {
      "text/html": [
       "<div>\n",
       "<style scoped>\n",
       "    .dataframe tbody tr th:only-of-type {\n",
       "        vertical-align: middle;\n",
       "    }\n",
       "\n",
       "    .dataframe tbody tr th {\n",
       "        vertical-align: top;\n",
       "    }\n",
       "\n",
       "    .dataframe thead th {\n",
       "        text-align: right;\n",
       "    }\n",
       "</style>\n",
       "<table border=\"1\" class=\"dataframe\">\n",
       "  <thead>\n",
       "    <tr style=\"text-align: right;\">\n",
       "      <th></th>\n",
       "      <th>DepDelay</th>\n",
       "      <th>CarrierDelay</th>\n",
       "      <th>WeatherDelay</th>\n",
       "      <th>NASDelay</th>\n",
       "      <th>LateAircraftDelay</th>\n",
       "    </tr>\n",
       "  </thead>\n",
       "  <tbody>\n",
       "    <tr>\n",
       "      <th>1782417</th>\n",
       "      <td>10.0</td>\n",
       "      <td>71.0</td>\n",
       "      <td>0.0</td>\n",
       "      <td>0.0</td>\n",
       "      <td>0.0</td>\n",
       "    </tr>\n",
       "    <tr>\n",
       "      <th>512712</th>\n",
       "      <td>560.0</td>\n",
       "      <td>543.0</td>\n",
       "      <td>0.0</td>\n",
       "      <td>0.0</td>\n",
       "      <td>5.0</td>\n",
       "    </tr>\n",
       "    <tr>\n",
       "      <th>447137</th>\n",
       "      <td>21.0</td>\n",
       "      <td>0.0</td>\n",
       "      <td>0.0</td>\n",
       "      <td>0.0</td>\n",
       "      <td>0.0</td>\n",
       "    </tr>\n",
       "  </tbody>\n",
       "</table>\n",
       "</div>"
      ],
      "text/plain": [
       "         DepDelay  CarrierDelay  WeatherDelay  NASDelay  LateAircraftDelay\n",
       "1782417      10.0          71.0           0.0       0.0                0.0\n",
       "512712      560.0         543.0           0.0       0.0                5.0\n",
       "447137       21.0           0.0           0.0       0.0                0.0"
      ]
     },
     "execution_count": 15,
     "metadata": {},
     "output_type": "execute_result"
    }
   ],
   "source": [
    "feature_cols = ['DepDelay', 'CarrierDelay', 'WeatherDelay', 'NASDelay', 'LateAircraftDelay']\n",
    "X = df1[feature_cols]\n",
    "X.head(3)"
   ]
  },
  {
   "cell_type": "code",
   "execution_count": 16,
   "id": "a418ee00",
   "metadata": {},
   "outputs": [
    {
     "name": "stdout",
     "output_type": "stream",
     "text": [
      "<class 'pandas.core.frame.DataFrame'>\n",
      "(193675, 5)\n"
     ]
    }
   ],
   "source": [
    "print(type(X))\n",
    "print(X.shape)"
   ]
  },
  {
   "cell_type": "code",
   "execution_count": 17,
   "id": "28f8bf20",
   "metadata": {},
   "outputs": [
    {
     "data": {
      "text/plain": [
       "1782417    1\n",
       "512712     1\n",
       "447137     1\n",
       "Name: Delayed, dtype: int64"
      ]
     },
     "execution_count": 17,
     "metadata": {},
     "output_type": "execute_result"
    }
   ],
   "source": [
    "y = df1['Delayed']\n",
    "y.head(3)"
   ]
  },
  {
   "cell_type": "code",
   "execution_count": 18,
   "id": "cb1da189",
   "metadata": {},
   "outputs": [
    {
     "name": "stdout",
     "output_type": "stream",
     "text": [
      "<class 'pandas.core.series.Series'>\n",
      "(193675,)\n"
     ]
    }
   ],
   "source": [
    "print(type(y))\n",
    "print(y.shape)"
   ]
  },
  {
   "cell_type": "markdown",
   "id": "0b0c3515",
   "metadata": {},
   "source": [
    "#### Train and Test split"
   ]
  },
  {
   "cell_type": "markdown",
   "id": "53c0f225",
   "metadata": {},
   "source": [
    "Split X and y into training and testing sets"
   ]
  },
  {
   "cell_type": "code",
   "execution_count": 19,
   "id": "9bb179ae",
   "metadata": {},
   "outputs": [],
   "source": [
    "X_train, X_test, y_train, y_test = train_test_split(X, y, test_size=0.25, random_state=42)"
   ]
  },
  {
   "cell_type": "code",
   "execution_count": 20,
   "id": "9bcec189",
   "metadata": {},
   "outputs": [
    {
     "name": "stdout",
     "output_type": "stream",
     "text": [
      "(145256, 5)\n",
      "(48419, 5)\n",
      "(145256,)\n",
      "(48419,)\n"
     ]
    }
   ],
   "source": [
    "print(X_train.shape)\n",
    "print(X_test.shape)\n",
    "print(y_train.shape)\n",
    "print(y_test.shape)"
   ]
  },
  {
   "cell_type": "markdown",
   "id": "a885054a",
   "metadata": {},
   "source": [
    "#### Building and training the models"
   ]
  },
  {
   "cell_type": "markdown",
   "id": "e211fe05",
   "metadata": {},
   "source": [
    "### Logistic Regression Classification"
   ]
  },
  {
   "cell_type": "code",
   "execution_count": 21,
   "id": "d098ef20",
   "metadata": {},
   "outputs": [
    {
     "name": "stdout",
     "output_type": "stream",
     "text": [
      "lgr Accuracy: 0.892211735062682\n",
      "lgr Confusion Matrix:\n",
      " [[    0  5219]\n",
      " [    0 43200]]\n",
      "lgr F1 Score: 0.9430358331787075\n",
      "lgr Cross Validation Scores: [0.89084807 0.89084807 0.89084807 0.89084807 0.89084807]\n"
     ]
    }
   ],
   "source": [
    "lgr = LogisticRegression()      # build\n",
    "lgr = lgr.fit(X_train, y_train)  # train\n",
    "y_pred_lgr = lgr.predict(X_test)  # make prediction\n",
    "print(\"lgr Accuracy:\", metrics.accuracy_score(y_test, y_pred_lgr)) \n",
    "print(\"lgr Confusion Matrix:\\n\", metrics.confusion_matrix(y_test, y_pred_lgr))\n",
    "print(\"lgr F1 Score:\", metrics.f1_score(y_test, y_pred_lgr))\n",
    "print(\"lgr Cross Validation Scores:\", cross_val_score(lgr, X, y, cv=5))"
   ]
  },
  {
   "cell_type": "code",
   "execution_count": 22,
   "id": "4668d208",
   "metadata": {},
   "outputs": [
    {
     "name": "stdout",
     "output_type": "stream",
     "text": [
      "lgr Accuracy: 0.7547450381048761\n",
      "lgr Confusion Matrix:\n",
      " [[ 5219     0]\n",
      " [11875 31325]]\n",
      "lgr F1 Score: 0.8406574974840657\n",
      "lgr Cross Validation Scores: [0.75167161 0.75502775 0.75673164 0.75404673 0.74921905]\n"
     ]
    }
   ],
   "source": [
    "# train the model with parameters\n",
    "lgr = LogisticRegression(class_weight='balanced', solver='sag', random_state=42) \n",
    "lgr = lgr.fit(X_train, y_train) \n",
    "y_pred_lgr = lgr.predict(X_test) \n",
    "print(\"lgr Accuracy:\", metrics.accuracy_score(y_test, y_pred_lgr)) \n",
    "print(\"lgr Confusion Matrix:\\n\", metrics.confusion_matrix(y_test, y_pred_lgr))\n",
    "print(\"lgr F1 Score:\", metrics.f1_score(y_test, y_pred_lgr))\n",
    "print(\"lgr Cross Validation Scores:\", cross_val_score(lgr, X, y, cv=5))"
   ]
  },
  {
   "cell_type": "markdown",
   "id": "cbe7b75f",
   "metadata": {},
   "source": [
    "### Decision Tree Classification "
   ]
  },
  {
   "cell_type": "code",
   "execution_count": 23,
   "id": "057687dd",
   "metadata": {},
   "outputs": [
    {
     "name": "stdout",
     "output_type": "stream",
     "text": [
      "dtree Accuracy: 0.8936367954728516\n",
      "dtree Confusion Matrix:\n",
      " [[   80  5139]\n",
      " [   11 43189]]\n",
      "dtree F1 Score: 0.9437330652914955\n",
      "dtree Cross Validation Scores: [0.89247451 0.89239706 0.89234542 0.89193236 0.89229379]\n"
     ]
    }
   ],
   "source": [
    "dtree = DecisionTreeClassifier() \n",
    "dtree = dtree.fit(X_train, y_train)\n",
    "y_pred_dtree = dtree.predict(X_test)\n",
    "print(\"dtree Accuracy:\", metrics.accuracy_score(y_test, y_pred_dtree))\n",
    "print(\"dtree Confusion Matrix:\\n\", metrics.confusion_matrix(y_test, y_pred_dtree))\n",
    "print(\"dtree F1 Score:\", metrics.f1_score(y_test, y_pred_dtree))\n",
    "print(\"dtree Cross Validation Scores:\", cross_val_score(dtree, X, y, cv=5))"
   ]
  },
  {
   "cell_type": "code",
   "execution_count": 24,
   "id": "92ec1b3b",
   "metadata": {},
   "outputs": [
    {
     "name": "stdout",
     "output_type": "stream",
     "text": [
      "dtree Accuracy: 0.892211735062682\n",
      "dtree Confusion Matrix:\n",
      " [[    0  5219]\n",
      " [    0 43200]]\n",
      "dtree F1 Score: 0.9430358331787075\n",
      "dtree Cross Validation Scores: [0.89084807 0.89084807 0.89084807 0.89084807 0.89084807]\n"
     ]
    }
   ],
   "source": [
    "# train the model with parameters\n",
    "dtree = DecisionTreeClassifier(criterion='entropy', splitter='random', random_state=42, max_depth=3) \n",
    "dtree = dtree.fit(X_train, y_train)\n",
    "y_pred_dtree = dtree.predict(X_test)\n",
    "print(\"dtree Accuracy:\", metrics.accuracy_score(y_test, y_pred_dtree))\n",
    "print(\"dtree Confusion Matrix:\\n\", metrics.confusion_matrix(y_test, y_pred_dtree))\n",
    "print(\"dtree F1 Score:\", metrics.f1_score(y_test, y_pred_dtree))\n",
    "print(\"dtree Cross Validation Scores:\", cross_val_score(dtree, X, y, cv=5))"
   ]
  },
  {
   "cell_type": "markdown",
   "id": "2970f07d",
   "metadata": {},
   "source": [
    "### Nearest Neighbors Classification"
   ]
  },
  {
   "cell_type": "code",
   "execution_count": 28,
   "id": "1fb5aa2b",
   "metadata": {},
   "outputs": [
    {
     "name": "stdout",
     "output_type": "stream",
     "text": [
      "knn Accuracy: 0.8876267580908321\n",
      "knn Confusion Matrix:\n",
      " [[ 1756  3463]\n",
      " [ 1978 41222]]\n",
      "knn F1 Score: 0.9380895488422369\n",
      "knn Cross Validation Scores: [0.87460953 0.88284497 0.87489351 0.85800955 0.87231186]\n"
     ]
    }
   ],
   "source": [
    "knn = KNeighborsClassifier()\n",
    "knn.fit(X_train, y_train)\n",
    "y_pred_knn = knn.predict(X_test)\n",
    "print(\"knn Accuracy:\", metrics.accuracy_score(y_test, y_pred_knn))\n",
    "print(\"knn Confusion Matrix:\\n\", metrics.confusion_matrix(y_test, y_pred_knn))\n",
    "print(\"knn F1 Score:\", metrics.f1_score(y_test, y_pred_knn))\n",
    "print(\"knn Cross Validation Scores:\", cross_val_score(knn, X, y, cv=5))"
   ]
  },
  {
   "cell_type": "code",
   "execution_count": 29,
   "id": "06ac57fe",
   "metadata": {},
   "outputs": [
    {
     "name": "stdout",
     "output_type": "stream",
     "text": [
      "knn Accuracy: 0.8706499514653339\n",
      "knn Confusion Matrix:\n",
      " [[ 2068  3151]\n",
      " [ 3112 40088]]\n",
      "knn F1 Score: 0.9275442797811174\n",
      "knn Cross Validation Scores: [0.88385181 0.88338712 0.86792307 0.85726088 0.88008261]\n"
     ]
    }
   ],
   "source": [
    "# train the model with parameters\n",
    "knn = KNeighborsClassifier(n_neighbors=7, algorithm='brute')\n",
    "knn.fit(X_train, y_train)\n",
    "y_pred_knn = knn.predict(X_test)\n",
    "print(\"knn Accuracy:\", metrics.accuracy_score(y_test, y_pred_knn))\n",
    "print(\"knn Confusion Matrix:\\n\", metrics.confusion_matrix(y_test, y_pred_knn))\n",
    "print(\"knn F1 Score:\", metrics.f1_score(y_test, y_pred_knn))\n",
    "print(\"knn Cross Validation Scores:\", cross_val_score(knn, X, y, cv=5))"
   ]
  },
  {
   "cell_type": "markdown",
   "id": "b3971577",
   "metadata": {},
   "source": [
    "### Support Vector Machine Classification"
   ]
  },
  {
   "cell_type": "code",
   "execution_count": 31,
   "id": "6ad42909",
   "metadata": {},
   "outputs": [
    {
     "name": "stdout",
     "output_type": "stream",
     "text": [
      "svm Accuracy: 0.8933269997315103\n",
      "svm Confusion Matrix:\n",
      " [[   57  5162]\n",
      " [    3 43197]]\n",
      "svm F1 Score: 0.9435882873338503\n",
      "Cross Validation Scores: [0.89216471 0.89206144 0.89213889 0.89193236 0.89188073]\n"
     ]
    }
   ],
   "source": [
    "svm = SVC()\n",
    "svm.fit(X_train, y_train)\n",
    "y_pred_svm = svm.predict(X_test)\n",
    "print(\"svm Accuracy:\", metrics.accuracy_score(y_test, y_pred_svm))\n",
    "print(\"svm Confusion Matrix:\\n\", metrics.confusion_matrix(y_test, y_pred_svm))\n",
    "print(\"svm F1 Score:\", metrics.f1_score(y_test, y_pred_svm))\n",
    "print(\"Cross Validation Scores:\", cross_val_score(svm, X, y, cv=5))"
   ]
  },
  {
   "cell_type": "code",
   "execution_count": 33,
   "id": "bb72d1c4",
   "metadata": {},
   "outputs": [
    {
     "name": "stdout",
     "output_type": "stream",
     "text": [
      "svm Accuracy: 0.892211735062682\n",
      "svm Confusion Matrix:\n",
      " [[    0  5219]\n",
      " [    0 43200]]\n",
      "svm F1 Score: 0.9430358331787075\n",
      "Cross Validation Scores: [0.89084807 0.89084807 0.89084807 0.89084807 0.89084807]\n"
     ]
    }
   ],
   "source": [
    "# train the model with parameters\n",
    "svm = SVC(kernel='linear', C=1, random_state=42)  #, coef0=1.0\n",
    "svm.fit(X_train, y_train)\n",
    "y_pred_svm = svm.predict(X_test)\n",
    "print(\"svm Accuracy:\", metrics.accuracy_score(y_test, y_pred_svm))\n",
    "print(\"svm Confusion Matrix:\\n\", metrics.confusion_matrix(y_test, y_pred_svm))\n",
    "print(\"svm F1 Score:\", metrics.f1_score(y_test, y_pred_svm))\n",
    "print(\"Cross Validation Scores:\", cross_val_score(svm, X, y, cv=5))"
   ]
  },
  {
   "cell_type": "markdown",
   "id": "88365734",
   "metadata": {},
   "source": [
    "______________"
   ]
  },
  {
   "cell_type": "markdown",
   "id": "8018b044",
   "metadata": {},
   "source": [
    "Repositori: Supervisat_Classificacio"
   ]
  }
 ],
 "metadata": {
  "kernelspec": {
   "display_name": "Python 3",
   "language": "python",
   "name": "python3"
  },
  "language_info": {
   "codemirror_mode": {
    "name": "ipython",
    "version": 3
   },
   "file_extension": ".py",
   "mimetype": "text/x-python",
   "name": "python",
   "nbconvert_exporter": "python",
   "pygments_lexer": "ipython3",
   "version": "3.8.8"
  }
 },
 "nbformat": 4,
 "nbformat_minor": 5
}
